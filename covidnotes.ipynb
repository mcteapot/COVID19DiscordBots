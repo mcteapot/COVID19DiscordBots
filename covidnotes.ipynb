{
 "nbformat": 4,
 "nbformat_minor": 2,
 "metadata": {
  "language_info": {
   "name": "python",
   "codemirror_mode": {
    "name": "ipython",
    "version": 3
   },
   "version": "3.7.6-final"
  },
  "orig_nbformat": 2,
  "file_extension": ".py",
  "mimetype": "text/x-python",
  "name": "python",
  "npconvert_exporter": "python",
  "pygments_lexer": "ipython3",
  "version": 3,
  "kernelspec": {
   "name": "python37664bit9253a100e44f43d1bc5ff71c0444f3c1",
   "display_name": "Python 3.7.6 64-bit"
  }
 },
 "cells": [
  {
   "cell_type": "code",
   "execution_count": 128,
   "metadata": {},
   "outputs": [
    {
     "name": "stdout",
     "output_type": "stream",
     "text": "Success!\n{'dt': '3/17/20', 'ts': 1584403200.0}\n"
    }
   ],
   "source": [
    "import requests\n",
    "import json\n",
    "\n",
    "isoalpha2code = \"AVC\"\n",
    "request_url = 'https://covid2019-api.herokuapp.com/country/' + isoalpha2code\n",
    "#request_url = request_url.encode()\n",
    "r = requests.get(url=request_url)\n",
    "if r.status_code == 200:\n",
    "    print('Success!')\n",
    "    print(r.json())\n",
    "elif r.status_code == 404:\n",
    "    print('Not Found.')"
   ]
  },
  {
   "cell_type": "code",
   "execution_count": 131,
   "metadata": {},
   "outputs": [
    {
     "name": "stdout",
     "output_type": "stream",
     "text": "dt\n"
    }
   ],
   "source": [
    "data = r.json()\n",
    "data_keys = list(data.keys())\n",
    "#print(data['Korea,_South']['confirmed'])\n",
    "#info_country =  'Country : ' + data_keys[0] + '\\n'\n",
    "#info_last_update = 'Last Update : ' + data[data_keys[1]]  + '\\n'\n",
    "#info_confirmed = 'Confirmed : ' + str(data[data_keys[0]]['confirmed'])  + '\\n'\n",
    "#info_deaths = 'Deaths : ' + str(data[data_keys[0]]['deaths']) + '\\n' \n",
    "#info_recovered = 'Recovered : ' + str(data[data_keys[0]]['recovered']) + '\\n' \n",
    "print(data_keys[0])\n",
    "#print(data[data_keys[1]])\n",
    "#print(data[data_keys[0]]['confirmed'])\n",
    "#print(data[data_keys[0]]['deaths'])\n",
    "#print(data[data_keys[0]]['recovered'])"
   ]
  },
  {
   "cell_type": "code",
   "execution_count": 123,
   "metadata": {},
   "outputs": [
    {
     "name": "stdout",
     "output_type": "stream",
     "text": "Country : US\nLast Update : 3/17/20\nConfirmed : 6421\nDeaths : 108\nRecovered : 17\n\n"
    }
   ],
   "source": [
    "print(info_country + info_last_update + info_confirmed + info_deaths + info_recovered)"
   ]
  },
  {
   "cell_type": "code",
   "execution_count": null,
   "metadata": {},
   "outputs": [],
   "source": []
  }
 ]
}