{
 "nbformat": 4,
 "nbformat_minor": 2,
 "metadata": {
  "language_info": {
   "name": "python",
   "codemirror_mode": {
    "name": "ipython",
    "version": 3
   },
   "version": "3.7.6-final"
  },
  "orig_nbformat": 2,
  "file_extension": ".py",
  "mimetype": "text/x-python",
  "name": "python",
  "npconvert_exporter": "python",
  "pygments_lexer": "ipython3",
  "version": 3,
  "kernelspec": {
   "name": "python37664bit9253a100e44f43d1bc5ff71c0444f3c1",
   "display_name": "Python 3.7.6 64-bit"
  }
 },
 "cells": [
  {
   "cell_type": "code",
   "execution_count": 4,
   "metadata": {},
   "outputs": [
    {
     "name": "stdout",
     "output_type": "stream",
     "text": "Success!\n{'US': {'confirmed': 7786, 'deaths': 118, 'recovered': 106}, 'dt': '3/18/20', 'ts': 1584489600.0}\n"
    }
   ],
   "source": [
    "import requests\n",
    "import json\n",
    "\n",
    "isoalpha2code = \"US\"\n",
    "request_url = 'https://covid2019-api.herokuapp.com/country/' + isoalpha2code\n",
    "#request_url = request_url.encode()\n",
    "r = requests.get(url=request_url)\n",
    "if r.status_code == 200:\n",
    "    print('Success!')\n",
    "    print(r.json())\n",
    "elif r.status_code == 404:\n",
    "    print('Not Found.')"
   ]
  },
  {
   "cell_type": "code",
   "execution_count": 131,
   "metadata": {},
   "outputs": [
    {
     "name": "stdout",
     "output_type": "stream",
     "text": "dt\n"
    }
   ],
   "source": [
    "data = r.json()\n",
    "data_keys = list(data.keys())\n",
    "#print(data['Korea,_South']['confirmed'])\n",
    "info_country =  'Country : ' + data_keys[0] + '\\n'\n",
    "info_last_update = 'Last Update : ' + data[data_keys[1]]  + '\\n'\n",
    "info_confirmed = 'Confirmed : ' + str(data[data_keys[0]]['confirmed'])  + '\\n'\n",
    "info_deaths = 'Deaths : ' + str(data[data_keys[0]]['deaths']) + '\\n' \n",
    "info_recovered = 'Recovered : ' + str(data[data_keys[0]]['recovered']) + '\\n' \n",
    "print(data_keys[0])\n",
    "print(data[data_keys[1]])\n",
    "print(data[data_keys[0]]['confirmed'])\n",
    "print(data[data_keys[0]]['deaths'])\n",
    "print(data[data_keys[0]]['recovered'])abbrev_us_state"
   ]
  },
  {
   "cell_type": "code",
   "execution_count": 123,
   "metadata": {},
   "outputs": [
    {
     "name": "stdout",
     "output_type": "stream",
     "text": "Country : US\nLast Update : 3/17/20\nConfirmed : 6421\nDeaths : 108\nRecovered : 17\n\n"
    }
   ],
   "source": [
    "print(info_country + info_last_update + info_confirmed + info_deaths + info_recovered)"
   ]
  },
  {
   "cell_type": "code",
   "execution_count": 137,
   "metadata": {},
   "outputs": [
    {
     "name": "stdout",
     "output_type": "stream",
     "text": "Success!\n{'confirmed': 197146, 'deaths': 7905, 'recovered': 80840, 'dt': '3/17/20', 'ts': 1584403200.0}\n197146\nTotal Worldwide\nLast Update : 3/17/20\nConfirmed : 197146\nDeaths : 7905\nRecovered : 80840\n\n"
    }
   ],
   "source": [
    "request_url = 'https://covid2019-api.herokuapp.com/total'\n",
    "r = requests.get(url=request_url)\n",
    "if r.status_code == 200:\n",
    "    print('Success!')\n",
    "    print(r.json())\n",
    "elif r.status_code == 404:\n",
    "    print('Not Found.')\n",
    "\n",
    "data = r.json()\n",
    "data_keys = list(data.keys())\n",
    "print(data['confirmed'])\n",
    "info_country =  'Total Worldwide' + '\\n'\n",
    "info_last_update = 'Last Update : ' + data['dt']  + '\\n'\n",
    "info_confirmed = 'Confirmed : ' + str(data['confirmed'])  + '\\n'\n",
    "info_deaths = 'Deaths : ' + str(data['deaths']) + '\\n' \n",
    "info_recovered = 'Recovered : ' + str(data['recovered']) + '\\n' \n",
    "print(info_country + info_last_update + info_confirmed + info_deaths + info_recovered)"
   ]
  },
  {
   "cell_type": "code",
   "execution_count": 16,
   "metadata": {},
   "outputs": [
    {
     "name": "stdout",
     "output_type": "stream",
     "text": "Success!\n{'data': []}\n0\n"
    }
   ],
   "source": [
    "#request_url = 'https://covid-api.com/api/reports?iso=USA&region_province=New%20York'\n",
    "request_url = 'https://covid-api.com/api/reports?iso=USA&region_province=dfsdfd'\n",
    "r = requests.get(url=request_url)\n",
    "if r.status_code == 200:\n",
    "    print('Success!')\n",
    "    print(r.json())\n",
    "elif r.status_code == 404:\n",
    "    print('Not Found.')\n",
    "\n",
    "data = r.json()\n",
    "print(len(data['data']))"
   ]
  },
  {
   "cell_type": "code",
   "execution_count": 14,
   "metadata": {},
   "outputs": [
    {
     "name": "stdout",
     "output_type": "stream",
     "text": "New Confirmed 739\n\n"
    }
   ],
   "source": [
    "#print(data['data'][0]['date'])\n",
    "#print(data['data'][0]['region']['province'])\n",
    "info_state =  data['data'][0]['region']['province'] + '\\n'\n",
    "info_last_update = 'Last Update : ' + data['data'][0]['date']  + '\\n'\n",
    "info_confirmed = 'Confirmed : ' + str(data['data'][0]['confirmed'])  + '\\n'\n",
    "info_deaths = 'Deaths : ' + str(data['data'][0]['deaths'])  + '\\n' \n",
    "info_recovered = 'Recovered : ' + str(data['data'][0]['recovered']) + '\\n' \n",
    "info_new_confirmed = 'New Confirmed ' + str(data['data'][0]['confirmed_diff']) + '\\n' \n",
    "print(info_new_confirmed)"
   ]
  },
  {
   "cell_type": "code",
   "execution_count": 19,
   "metadata": {},
   "outputs": [
    {
     "output_type": "error",
     "ename": "KeyError",
     "evalue": "'WI'",
     "traceback": [
      "\u001b[1;31m---------------------------------------------------------------------------\u001b[0m",
      "\u001b[1;31mKeyError\u001b[0m                                  Traceback (most recent call last)",
      "\u001b[1;32m<ipython-input-19-c9e7f6c1e317>\u001b[0m in \u001b[0;36m<module>\u001b[1;34m\u001b[0m\n\u001b[0;32m      1\u001b[0m \u001b[1;32mimport\u001b[0m \u001b[0msettings\u001b[0m\u001b[1;33m\u001b[0m\u001b[1;33m\u001b[0m\u001b[0m\n\u001b[1;32m----> 2\u001b[1;33m \u001b[0mprint\u001b[0m\u001b[1;33m(\u001b[0m\u001b[0msettings\u001b[0m\u001b[1;33m.\u001b[0m\u001b[0mus_state_abbrev\u001b[0m\u001b[1;33m[\u001b[0m\u001b[1;34m'WI'\u001b[0m\u001b[1;33m]\u001b[0m\u001b[1;33m)\u001b[0m\u001b[1;33m\u001b[0m\u001b[1;33m\u001b[0m\u001b[0m\n\u001b[0m",
      "\u001b[1;31mKeyError\u001b[0m: 'WI'"
     ]
    }
   ],
   "source": [
    "import settings\n",
    "print(settings.us_state_abbrev['WI'])"
   ]
  },
  {
   "cell_type": "code",
   "execution_count": null,
   "metadata": {},
   "outputs": [],
   "source": []
  }
 ]
}