{
 "nbformat": 4,
 "nbformat_minor": 2,
 "metadata": {
  "language_info": {
   "name": "python",
   "codemirror_mode": {
    "name": "ipython",
    "version": 3
   },
   "version": "3.7.6-final"
  },
  "orig_nbformat": 2,
  "file_extension": ".py",
  "mimetype": "text/x-python",
  "name": "python",
  "npconvert_exporter": "python",
  "pygments_lexer": "ipython3",
  "version": 3,
  "kernelspec": {
   "name": "python37664bit9253a100e44f43d1bc5ff71c0444f3c1",
   "display_name": "Python 3.7.6 64-bit"
  }
 },
 "cells": [
  {
   "cell_type": "code",
   "execution_count": 8,
   "metadata": {},
   "outputs": [
    {
     "name": "stdout",
     "output_type": "stream",
     "text": "Success!\n[{'countryregion': 'US', 'lastupdate': '2020-03-18T00:42:00.003Z', 'location': {'lat': 43.5916, 'lng': -71.0098}, 'countrycode': {'iso2': 'US', 'iso3': 'USA'}, 'confirmed': 6345, 'deaths': 108, 'recovered': 17}]\n"
    }
   ],
   "source": [
    "import requests\n",
    "import json\n",
    "r = requests.get(url=\"https://wuhan-coronavirus-api.laeyoung.endpoint.ainize.ai/jhu-edu/latest?iso2=US&onlyCountries=true\")\n",
    "if r.status_code == 200:\n",
    "    print('Success!')\n",
    "    print(r.json())\n",
    "elif r.status_code == 404:\n",
    "    print('Not Found.')"
   ]
  },
  {
   "cell_type": "code",
   "execution_count": 16,
   "metadata": {},
   "outputs": [
    {
     "name": "stdout",
     "output_type": "stream",
     "text": "{'countryregion': 'US', 'lastupdate': '2020-03-18T00:42:00.003Z', 'location': {'lat': 43.5916, 'lng': -71.0098}, 'countrycode': {'iso2': 'US', 'iso3': 'USA'}, 'confirmed': 6345, 'deaths': 108, 'recovered': 17}\n6345\n43.5916\n"
    }
   ],
   "source": [
    "data = r.json()\n",
    "print(data[0])\n",
    "print(data[0]['confirmed'])\n",
    "print(data[0]['location']['lat'])"
   ]
  },
  {
   "cell_type": "code",
   "execution_count": null,
   "metadata": {},
   "outputs": [],
   "source": [
    "p"
   ]
  }
 ]
}